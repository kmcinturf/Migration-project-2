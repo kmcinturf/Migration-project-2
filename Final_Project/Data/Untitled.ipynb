{
 "cells": [
  {
   "cell_type": "code",
   "execution_count": 1,
   "metadata": {},
   "outputs": [],
   "source": [
    "import pandas as pd"
   ]
  },
  {
   "cell_type": "code",
   "execution_count": 2,
   "metadata": {},
   "outputs": [],
   "source": [
    "swallow_data = pd.read_csv(\"Swallow.csv\")"
   ]
  },
  {
   "cell_type": "code",
   "execution_count": 3,
   "metadata": {},
   "outputs": [
    {
     "name": "stdout",
     "output_type": "stream",
     "text": [
      "546\n"
     ]
    }
   ],
   "source": [
    "swallow1 = swallow_data[swallow_data[\"swallow_id\"].str.contains(\"H988\")]\n",
    "print(len(swallow1))"
   ]
  },
  {
   "cell_type": "code",
   "execution_count": 4,
   "metadata": {},
   "outputs": [
    {
     "name": "stdout",
     "output_type": "stream",
     "text": [
      "533\n"
     ]
    }
   ],
   "source": [
    "swallow2 = swallow_data[swallow_data[\"swallow_id\"].str.contains(\"H982\")]\n",
    "print(len(swallow2))"
   ]
  },
  {
   "cell_type": "code",
   "execution_count": 5,
   "metadata": {},
   "outputs": [
    {
     "name": "stdout",
     "output_type": "stream",
     "text": [
      "487\n"
     ]
    }
   ],
   "source": [
    "swallow3 = swallow_data[swallow_data[\"swallow_id\"].str.contains(\"H980\")]\n",
    "print(len(swallow3))"
   ]
  },
  {
   "cell_type": "code",
   "execution_count": 6,
   "metadata": {},
   "outputs": [
    {
     "name": "stdout",
     "output_type": "stream",
     "text": [
      "514\n"
     ]
    }
   ],
   "source": [
    "swallow4 = swallow_data[swallow_data[\"swallow_id\"].str.contains(\"H974\")]\n",
    "print(len(swallow4))"
   ]
  },
  {
   "cell_type": "code",
   "execution_count": 7,
   "metadata": {},
   "outputs": [],
   "source": [
    "all_swallows = [swallow1, swallow2, swallow3]"
   ]
  },
  {
   "cell_type": "code",
   "execution_count": 8,
   "metadata": {},
   "outputs": [
    {
     "data": {
      "text/html": [
       "<div>\n",
       "<style scoped>\n",
       "    .dataframe tbody tr th:only-of-type {\n",
       "        vertical-align: middle;\n",
       "    }\n",
       "\n",
       "    .dataframe tbody tr th {\n",
       "        vertical-align: top;\n",
       "    }\n",
       "\n",
       "    .dataframe thead th {\n",
       "        text-align: right;\n",
       "    }\n",
       "</style>\n",
       "<table border=\"1\" class=\"dataframe\">\n",
       "  <thead>\n",
       "    <tr style=\"text-align: right;\">\n",
       "      <th></th>\n",
       "      <th>event-id</th>\n",
       "      <th>visible</th>\n",
       "      <th>timestamp</th>\n",
       "      <th>long</th>\n",
       "      <th>lat</th>\n",
       "      <th>location-error-text</th>\n",
       "      <th>sensor-type</th>\n",
       "      <th>individual-taxon-canonical-name</th>\n",
       "      <th>swallow_id</th>\n",
       "      <th>individual-local-identifier</th>\n",
       "      <th>study-name</th>\n",
       "    </tr>\n",
       "  </thead>\n",
       "  <tbody>\n",
       "    <tr>\n",
       "      <th>3014</th>\n",
       "      <td>2549647527</td>\n",
       "      <td>True</td>\n",
       "      <td>27:11.0</td>\n",
       "      <td>-58.47</td>\n",
       "      <td>-38.25</td>\n",
       "      <td>-38.25:-58.47:-38.25:-58.47</td>\n",
       "      <td>solar-geolocator</td>\n",
       "      <td>Hirundo rustica</td>\n",
       "      <td>H988</td>\n",
       "      <td>H988</td>\n",
       "      <td>Argentine Barn Swallows</td>\n",
       "    </tr>\n",
       "    <tr>\n",
       "      <th>3015</th>\n",
       "      <td>2549647528</td>\n",
       "      <td>True</td>\n",
       "      <td>39:08.0</td>\n",
       "      <td>-58.47</td>\n",
       "      <td>-38.25</td>\n",
       "      <td>-38.25:-58.47:-38.25:-58.47</td>\n",
       "      <td>solar-geolocator</td>\n",
       "      <td>Hirundo rustica</td>\n",
       "      <td>H988</td>\n",
       "      <td>H988</td>\n",
       "      <td>Argentine Barn Swallows</td>\n",
       "    </tr>\n",
       "    <tr>\n",
       "      <th>3016</th>\n",
       "      <td>2549647529</td>\n",
       "      <td>True</td>\n",
       "      <td>26:40.0</td>\n",
       "      <td>-58.47</td>\n",
       "      <td>-38.25</td>\n",
       "      <td>-38.25:-58.47:-38.25:-58.47</td>\n",
       "      <td>solar-geolocator</td>\n",
       "      <td>Hirundo rustica</td>\n",
       "      <td>H988</td>\n",
       "      <td>H988</td>\n",
       "      <td>Argentine Barn Swallows</td>\n",
       "    </tr>\n",
       "    <tr>\n",
       "      <th>3017</th>\n",
       "      <td>2549647530</td>\n",
       "      <td>True</td>\n",
       "      <td>27:46.0</td>\n",
       "      <td>-58.47</td>\n",
       "      <td>-38.25</td>\n",
       "      <td>-38.25:-58.47:-38.25:-58.47</td>\n",
       "      <td>solar-geolocator</td>\n",
       "      <td>Hirundo rustica</td>\n",
       "      <td>H988</td>\n",
       "      <td>H988</td>\n",
       "      <td>Argentine Barn Swallows</td>\n",
       "    </tr>\n",
       "    <tr>\n",
       "      <th>3018</th>\n",
       "      <td>2549647531</td>\n",
       "      <td>True</td>\n",
       "      <td>21:40.0</td>\n",
       "      <td>-58.47</td>\n",
       "      <td>-38.25</td>\n",
       "      <td>-38.25:-58.47:-38.25:-58.47</td>\n",
       "      <td>solar-geolocator</td>\n",
       "      <td>Hirundo rustica</td>\n",
       "      <td>H988</td>\n",
       "      <td>H988</td>\n",
       "      <td>Argentine Barn Swallows</td>\n",
       "    </tr>\n",
       "    <tr>\n",
       "      <th>...</th>\n",
       "      <td>...</td>\n",
       "      <td>...</td>\n",
       "      <td>...</td>\n",
       "      <td>...</td>\n",
       "      <td>...</td>\n",
       "      <td>...</td>\n",
       "      <td>...</td>\n",
       "      <td>...</td>\n",
       "      <td>...</td>\n",
       "      <td>...</td>\n",
       "      <td>...</td>\n",
       "    </tr>\n",
       "    <tr>\n",
       "      <th>1989</th>\n",
       "      <td>2549646502</td>\n",
       "      <td>True</td>\n",
       "      <td>16:41.0</td>\n",
       "      <td>-57.18</td>\n",
       "      <td>-25.20</td>\n",
       "      <td>-30.6:-58.16:-17.55:-56.18</td>\n",
       "      <td>solar-geolocator</td>\n",
       "      <td>Hirundo rustica</td>\n",
       "      <td>H980</td>\n",
       "      <td>H980</td>\n",
       "      <td>Argentine Barn Swallows</td>\n",
       "    </tr>\n",
       "    <tr>\n",
       "      <th>1990</th>\n",
       "      <td>2549646503</td>\n",
       "      <td>True</td>\n",
       "      <td>07:13.0</td>\n",
       "      <td>-57.18</td>\n",
       "      <td>-25.20</td>\n",
       "      <td>-30.6:-58.16:-17.55:-56.18</td>\n",
       "      <td>solar-geolocator</td>\n",
       "      <td>Hirundo rustica</td>\n",
       "      <td>H980</td>\n",
       "      <td>H980</td>\n",
       "      <td>Argentine Barn Swallows</td>\n",
       "    </tr>\n",
       "    <tr>\n",
       "      <th>1991</th>\n",
       "      <td>2549646504</td>\n",
       "      <td>True</td>\n",
       "      <td>08:32.0</td>\n",
       "      <td>-57.18</td>\n",
       "      <td>-25.20</td>\n",
       "      <td>-38.7:-59.58:-25.2:-56.95</td>\n",
       "      <td>solar-geolocator</td>\n",
       "      <td>Hirundo rustica</td>\n",
       "      <td>H980</td>\n",
       "      <td>H980</td>\n",
       "      <td>Argentine Barn Swallows</td>\n",
       "    </tr>\n",
       "    <tr>\n",
       "      <th>1992</th>\n",
       "      <td>2549646505</td>\n",
       "      <td>True</td>\n",
       "      <td>16:40.0</td>\n",
       "      <td>-58.27</td>\n",
       "      <td>-29.25</td>\n",
       "      <td>-38.7:-59.83:-25.2:-56.95</td>\n",
       "      <td>solar-geolocator</td>\n",
       "      <td>Hirundo rustica</td>\n",
       "      <td>H980</td>\n",
       "      <td>H980</td>\n",
       "      <td>Argentine Barn Swallows</td>\n",
       "    </tr>\n",
       "    <tr>\n",
       "      <th>1993</th>\n",
       "      <td>2549646506</td>\n",
       "      <td>True</td>\n",
       "      <td>02:49.0</td>\n",
       "      <td>-58.85</td>\n",
       "      <td>-38.25</td>\n",
       "      <td>-38.7:-59.04:-37.8:-57.9</td>\n",
       "      <td>solar-geolocator</td>\n",
       "      <td>Hirundo rustica</td>\n",
       "      <td>H980</td>\n",
       "      <td>H980</td>\n",
       "      <td>Argentine Barn Swallows</td>\n",
       "    </tr>\n",
       "  </tbody>\n",
       "</table>\n",
       "<p>1566 rows × 11 columns</p>\n",
       "</div>"
      ],
      "text/plain": [
       "        event-id  visible timestamp   long    lat  \\\n",
       "3014  2549647527     True   27:11.0 -58.47 -38.25   \n",
       "3015  2549647528     True   39:08.0 -58.47 -38.25   \n",
       "3016  2549647529     True   26:40.0 -58.47 -38.25   \n",
       "3017  2549647530     True   27:46.0 -58.47 -38.25   \n",
       "3018  2549647531     True   21:40.0 -58.47 -38.25   \n",
       "...          ...      ...       ...    ...    ...   \n",
       "1989  2549646502     True   16:41.0 -57.18 -25.20   \n",
       "1990  2549646503     True   07:13.0 -57.18 -25.20   \n",
       "1991  2549646504     True   08:32.0 -57.18 -25.20   \n",
       "1992  2549646505     True   16:40.0 -58.27 -29.25   \n",
       "1993  2549646506     True   02:49.0 -58.85 -38.25   \n",
       "\n",
       "              location-error-text       sensor-type  \\\n",
       "3014  -38.25:-58.47:-38.25:-58.47  solar-geolocator   \n",
       "3015  -38.25:-58.47:-38.25:-58.47  solar-geolocator   \n",
       "3016  -38.25:-58.47:-38.25:-58.47  solar-geolocator   \n",
       "3017  -38.25:-58.47:-38.25:-58.47  solar-geolocator   \n",
       "3018  -38.25:-58.47:-38.25:-58.47  solar-geolocator   \n",
       "...                           ...               ...   \n",
       "1989   -30.6:-58.16:-17.55:-56.18  solar-geolocator   \n",
       "1990   -30.6:-58.16:-17.55:-56.18  solar-geolocator   \n",
       "1991    -38.7:-59.58:-25.2:-56.95  solar-geolocator   \n",
       "1992    -38.7:-59.83:-25.2:-56.95  solar-geolocator   \n",
       "1993     -38.7:-59.04:-37.8:-57.9  solar-geolocator   \n",
       "\n",
       "     individual-taxon-canonical-name swallow_id individual-local-identifier  \\\n",
       "3014                 Hirundo rustica       H988                        H988   \n",
       "3015                 Hirundo rustica       H988                        H988   \n",
       "3016                 Hirundo rustica       H988                        H988   \n",
       "3017                 Hirundo rustica       H988                        H988   \n",
       "3018                 Hirundo rustica       H988                        H988   \n",
       "...                              ...        ...                         ...   \n",
       "1989                 Hirundo rustica       H980                        H980   \n",
       "1990                 Hirundo rustica       H980                        H980   \n",
       "1991                 Hirundo rustica       H980                        H980   \n",
       "1992                 Hirundo rustica       H980                        H980   \n",
       "1993                 Hirundo rustica       H980                        H980   \n",
       "\n",
       "                   study-name  \n",
       "3014  Argentine Barn Swallows  \n",
       "3015  Argentine Barn Swallows  \n",
       "3016  Argentine Barn Swallows  \n",
       "3017  Argentine Barn Swallows  \n",
       "3018  Argentine Barn Swallows  \n",
       "...                       ...  \n",
       "1989  Argentine Barn Swallows  \n",
       "1990  Argentine Barn Swallows  \n",
       "1991  Argentine Barn Swallows  \n",
       "1992  Argentine Barn Swallows  \n",
       "1993  Argentine Barn Swallows  \n",
       "\n",
       "[1566 rows x 11 columns]"
      ]
     },
     "execution_count": 8,
     "metadata": {},
     "output_type": "execute_result"
    }
   ],
   "source": [
    "swallow_alot = pd.concat(all_swallows)\n",
    "swallow_alot"
   ]
  },
  {
   "cell_type": "code",
   "execution_count": 10,
   "metadata": {},
   "outputs": [],
   "source": [
    "swallow_alot.to_csv(r'Swallow.csv', index = False, header = True)"
   ]
  },
  {
   "cell_type": "code",
   "execution_count": null,
   "metadata": {},
   "outputs": [],
   "source": []
  }
 ],
 "metadata": {
  "kernelspec": {
   "display_name": "Python 3",
   "language": "python",
   "name": "python3"
  },
  "language_info": {
   "codemirror_mode": {
    "name": "ipython",
    "version": 3
   },
   "file_extension": ".py",
   "mimetype": "text/x-python",
   "name": "python",
   "nbconvert_exporter": "python",
   "pygments_lexer": "ipython3",
   "version": "3.8.5"
  }
 },
 "nbformat": 4,
 "nbformat_minor": 4
}
